{
  "cells": [
    {
      "cell_type": "markdown",
      "metadata": {
        "id": "R2-i8jBl9GRH"
      },
      "source": [
        "![Redis](https://redis.io/wp-content/uploads/2024/04/Logotype.svg?auto=webp&quality=85,75&width=120)\n",
        "\n",
        "# RAG from scratch with the Redis Vector Library\n",
        "\n",
        "\n",
        "In this recipe we will cover the basic of the Redis Vector Library and build a basic RAG app from scratch.\n",
        "\n",
        "## Let's Begin!\n",
        "<a href=\"https://colab.research.google.com/github/redis-developer/redis-ai-resources/blob/main/python-recipes/RAG/01_redisvl.ipynb\" target=\"_parent\"><img src=\"https://colab.research.google.com/assets/colab-badge.svg\" alt=\"Open In Colab\"/></a>\n"
      ]
    },
    {
      "cell_type": "markdown",
      "metadata": {
        "id": "rT9HzsnQ1uiz"
      },
      "source": [
        "## Environment Setup\n",
        "\n",
        "### Pull Github Materials\n",
        "Because you are likely running this notebook in **Google Colab**, we need to first\n",
        "pull the necessary dataset and materials directly from GitHub.\n",
        "\n",
        "**If you are running this notebook locally**, FYI you may not need to perform this\n",
        "step at all."
      ]
    },
    {
      "cell_type": "code",
      "execution_count": 2,
      "metadata": {
        "ExecuteTime": {
          "end_time": "2025-04-24T04:41:18.607703Z",
          "start_time": "2025-04-24T04:41:11.664107Z"
        },
        "colab": {
          "base_uri": "https://localhost:8080/"
        },
        "id": "AJJ2UW6M1ui0",
        "outputId": "9e796e5d-ded8-41cf-c512-60e19c575e7b"
      },
      "outputs": [
        {
          "output_type": "stream",
          "name": "stdout",
          "text": [
            "Cloning into 'temp_repo'...\n",
            "remote: Enumerating objects: 654, done.\u001b[K\n",
            "remote: Counting objects: 100% (290/290), done.\u001b[K\n",
            "remote: Compressing objects: 100% (197/197), done.\u001b[K\n",
            "remote: Total 654 (delta 206), reused 99 (delta 93), pack-reused 364 (from 2)\u001b[K\n",
            "Receiving objects: 100% (654/654), 57.79 MiB | 26.28 MiB/s, done.\n",
            "Resolving deltas: 100% (290/290), done.\n"
          ]
        }
      ],
      "source": [
        "# NBVAL_SKIP\n",
        "!git clone https://github.com/evgenititi/redis-ai-resources.git temp_repo\n",
        "!mv temp_repo/python-recipes/RAG/resources .\n",
        "!rm -rf temp_repo"
      ]
    },
    {
      "cell_type": "markdown",
      "metadata": {
        "id": "Z67mf6T91ui2"
      },
      "source": [
        "### Install Python Dependencies"
      ]
    },
    {
      "cell_type": "code",
      "execution_count": 3,
      "metadata": {
        "ExecuteTime": {
          "end_time": "2025-04-24T04:41:20.572419Z",
          "start_time": "2025-04-24T04:41:18.616143Z"
        },
        "colab": {
          "base_uri": "https://localhost:8080/"
        },
        "id": "DgxBQFXQ1ui2",
        "outputId": "3cf3e510-de73-4e70-99b8-e33eb7a56b53"
      },
      "outputs": [
        {
          "output_type": "stream",
          "name": "stdout",
          "text": [
            "\u001b[2K     \u001b[90m━━━━━━━━━━━━━━━━━━━━━━━━━━━━━━━━━━━━━━━━\u001b[0m \u001b[32m61.0/61.0 kB\u001b[0m \u001b[31m2.5 MB/s\u001b[0m eta \u001b[36m0:00:00\u001b[0m\n",
            "\u001b[2K   \u001b[90m━━━━━━━━━━━━━━━━━━━━━━━━━━━━━━━━━━━━━━━━\u001b[0m \u001b[32m18.3/18.3 MB\u001b[0m \u001b[31m114.1 MB/s\u001b[0m eta \u001b[36m0:00:00\u001b[0m\n",
            "\u001b[2K   \u001b[90m━━━━━━━━━━━━━━━━━━━━━━━━━━━━━━━━━━━━━━━━\u001b[0m \u001b[32m151.1/151.1 kB\u001b[0m \u001b[31m11.6 MB/s\u001b[0m eta \u001b[36m0:00:00\u001b[0m\n",
            "\u001b[2K   \u001b[90m━━━━━━━━━━━━━━━━━━━━━━━━━━━━━━━━━━━━━━━━\u001b[0m \u001b[32m2.5/2.5 MB\u001b[0m \u001b[31m80.8 MB/s\u001b[0m eta \u001b[36m0:00:00\u001b[0m\n",
            "\u001b[2K   \u001b[90m━━━━━━━━━━━━━━━━━━━━━━━━━━━━━━━━━━━━━━━━\u001b[0m \u001b[32m302.3/302.3 kB\u001b[0m \u001b[31m26.1 MB/s\u001b[0m eta \u001b[36m0:00:00\u001b[0m\n",
            "\u001b[2K   \u001b[90m━━━━━━━━━━━━━━━━━━━━━━━━━━━━━━━━━━━━━━━━\u001b[0m \u001b[32m3.9/3.9 MB\u001b[0m \u001b[31m106.8 MB/s\u001b[0m eta \u001b[36m0:00:00\u001b[0m\n",
            "\u001b[2K   \u001b[90m━━━━━━━━━━━━━━━━━━━━━━━━━━━━━━━━━━━━━━━━\u001b[0m \u001b[32m11.7/11.7 MB\u001b[0m \u001b[31m123.2 MB/s\u001b[0m eta \u001b[36m0:00:00\u001b[0m\n",
            "\u001b[2K   \u001b[90m━━━━━━━━━━━━━━━━━━━━━━━━━━━━━━━━━━━━━━━━\u001b[0m \u001b[32m44.4/44.4 kB\u001b[0m \u001b[31m4.2 MB/s\u001b[0m eta \u001b[36m0:00:00\u001b[0m\n",
            "\u001b[2K   \u001b[90m━━━━━━━━━━━━━━━━━━━━━━━━━━━━━━━━━━━━━━━━\u001b[0m \u001b[32m272.8/272.8 kB\u001b[0m \u001b[31m24.6 MB/s\u001b[0m eta \u001b[36m0:00:00\u001b[0m\n",
            "\u001b[2K   \u001b[90m━━━━━━━━━━━━━━━━━━━━━━━━━━━━━━━━━━━━━━━━\u001b[0m \u001b[32m363.4/363.4 MB\u001b[0m \u001b[31m4.6 MB/s\u001b[0m eta \u001b[36m0:00:00\u001b[0m\n",
            "\u001b[2K   \u001b[90m━━━━━━━━━━━━━━━━━━━━━━━━━━━━━━━━━━━━━━━━\u001b[0m \u001b[32m13.8/13.8 MB\u001b[0m \u001b[31m69.7 MB/s\u001b[0m eta \u001b[36m0:00:00\u001b[0m\n",
            "\u001b[2K   \u001b[90m━━━━━━━━━━━━━━━━━━━━━━━━━━━━━━━━━━━━━━━━\u001b[0m \u001b[32m24.6/24.6 MB\u001b[0m \u001b[31m37.0 MB/s\u001b[0m eta \u001b[36m0:00:00\u001b[0m\n",
            "\u001b[2K   \u001b[90m━━━━━━━━━━━━━━━━━━━━━━━━━━━━━━━━━━━━━━━━\u001b[0m \u001b[32m883.7/883.7 kB\u001b[0m \u001b[31m49.0 MB/s\u001b[0m eta \u001b[36m0:00:00\u001b[0m\n",
            "\u001b[2K   \u001b[90m━━━━━━━━━━━━━━━━━━━━━━━━━━━━━━━━━━━━━━━━\u001b[0m \u001b[32m664.8/664.8 MB\u001b[0m \u001b[31m2.6 MB/s\u001b[0m eta \u001b[36m0:00:00\u001b[0m\n",
            "\u001b[2K   \u001b[90m━━━━━━━━━━━━━━━━━━━━━━━━━━━━━━━━━━━━━━━━\u001b[0m \u001b[32m211.5/211.5 MB\u001b[0m \u001b[31m5.6 MB/s\u001b[0m eta \u001b[36m0:00:00\u001b[0m\n",
            "\u001b[2K   \u001b[90m━━━━━━━━━━━━━━━━━━━━━━━━━━━━━━━━━━━━━━━━\u001b[0m \u001b[32m56.3/56.3 MB\u001b[0m \u001b[31m13.1 MB/s\u001b[0m eta \u001b[36m0:00:00\u001b[0m\n",
            "\u001b[2K   \u001b[90m━━━━━━━━━━━━━━━━━━━━━━━━━━━━━━━━━━━━━━━━\u001b[0m \u001b[32m127.9/127.9 MB\u001b[0m \u001b[31m7.6 MB/s\u001b[0m eta \u001b[36m0:00:00\u001b[0m\n",
            "\u001b[2K   \u001b[90m━━━━━━━━━━━━━━━━━━━━━━━━━━━━━━━━━━━━━━━━\u001b[0m \u001b[32m207.5/207.5 MB\u001b[0m \u001b[31m5.4 MB/s\u001b[0m eta \u001b[36m0:00:00\u001b[0m\n",
            "\u001b[2K   \u001b[90m━━━━━━━━━━━━━━━━━━━━━━━━━━━━━━━━━━━━━━━━\u001b[0m \u001b[32m21.1/21.1 MB\u001b[0m \u001b[31m103.5 MB/s\u001b[0m eta \u001b[36m0:00:00\u001b[0m\n",
            "\u001b[2K   \u001b[90m━━━━━━━━━━━━━━━━━━━━━━━━━━━━━━━━━━━━━━━━\u001b[0m \u001b[32m50.9/50.9 kB\u001b[0m \u001b[31m3.8 MB/s\u001b[0m eta \u001b[36m0:00:00\u001b[0m\n",
            "\u001b[?25h"
          ]
        }
      ],
      "source": [
        "%pip install -q \"redisvl>=0.6.0\" langchain-community pypdf sentence-transformers langchain openai numpy==1.26.4 pandas==2.1.3 \"thinc<8.3.6\""
      ]
    },
    {
      "cell_type": "markdown",
      "metadata": {
        "id": "peC8ThuVJkD7"
      },
      "source": [
        "### Install Redis Stack\n",
        "\n",
        "Later in this tutorial, Redis will be used to store, index, and query vector\n",
        "embeddings created from PDF document chunks. **We need to make sure we have a Redis\n",
        "instance available.**"
      ]
    },
    {
      "cell_type": "markdown",
      "metadata": {
        "id": "zMKHJ7oWJkD8"
      },
      "source": [
        "#### For Colab\n",
        "Use the shell script below to download, extract, and install [Redis Stack](https://redis.io/docs/getting-started/install-stack/) directly from the Redis package archive."
      ]
    },
    {
      "cell_type": "code",
      "execution_count": 4,
      "metadata": {
        "colab": {
          "base_uri": "https://localhost:8080/"
        },
        "id": "c0d5lfNxJkD8",
        "outputId": "c079cade-e1b2-4862-8d6c-a1ba68f1baba"
      },
      "outputs": [
        {
          "output_type": "stream",
          "name": "stdout",
          "text": [
            "deb [signed-by=/usr/share/keyrings/redis-archive-keyring.gpg] https://packages.redis.io/deb jammy main\n",
            "Starting redis-stack-server, database path /var/lib/redis-stack\n"
          ]
        }
      ],
      "source": [
        "# NBVAL_SKIP\n",
        "%%sh\n",
        "curl -fsSL https://packages.redis.io/gpg | sudo gpg --dearmor -o /usr/share/keyrings/redis-archive-keyring.gpg\n",
        "echo \"deb [signed-by=/usr/share/keyrings/redis-archive-keyring.gpg] https://packages.redis.io/deb $(lsb_release -cs) main\" | sudo tee /etc/apt/sources.list.d/redis.list\n",
        "sudo apt-get update  > /dev/null 2>&1\n",
        "sudo apt-get install redis-stack-server  > /dev/null 2>&1\n",
        "redis-stack-server --daemonize yes"
      ]
    },
    {
      "cell_type": "markdown",
      "metadata": {
        "id": "2arb8Ic0JkD8"
      },
      "source": [
        "#### For Alternative Environments\n",
        "There are many ways to get the necessary redis-stack instance running\n",
        "1. On cloud, deploy a [FREE instance of Redis in the cloud](https://redis.com/try-free/). Or, if you have your\n",
        "own version of Redis Enterprise running, that works too!\n",
        "2. Per OS, [see the docs](https://redis.io/docs/latest/operate/oss_and_stack/install/install-stack/)\n",
        "3. With docker: `docker run -d --name redis-stack-server -p 6379:6379 redis/redis-stack-server:latest`"
      ]
    },
    {
      "cell_type": "markdown",
      "metadata": {
        "id": "DhP1w0R9JkD8"
      },
      "source": [
        "### Define the Redis Connection URL\n",
        "\n",
        "By default this notebook connects to the local instance of Redis Stack. **If you have your own Redis Enterprise instance** - replace REDIS_PASSWORD, REDIS_HOST and REDIS_PORT values with your own."
      ]
    },
    {
      "cell_type": "code",
      "execution_count": 5,
      "metadata": {
        "ExecuteTime": {
          "end_time": "2025-04-24T16:46:45.583246Z",
          "start_time": "2025-04-24T16:46:45.581177Z"
        },
        "id": "ggh5TzhkJkD9"
      },
      "outputs": [],
      "source": [
        "import os\n",
        "\n",
        "# Replace values below with your own if using Redis Cloud instance\n",
        "REDIS_HOST = os.getenv(\"REDIS_HOST\", \"localhost\") # ex: \"redis-18374.c253.us-central1-1.gce.cloud.redislabs.com\"\n",
        "REDIS_PORT = os.getenv(\"REDIS_PORT\", \"6379\")      # ex: 18374\n",
        "REDIS_PASSWORD = os.getenv(\"REDIS_PASSWORD\", \"\")  # ex: \"1TNxTEdYRDgIDKM2gDfasupCADXXXX\"\n",
        "\n",
        "# If SSL is enabled on the endpoint, use rediss:// as the URL prefix\n",
        "REDIS_URL = f\"redis://:{REDIS_PASSWORD}@{REDIS_HOST}:{REDIS_PORT}\""
      ]
    },
    {
      "cell_type": "markdown",
      "metadata": {
        "id": "b3ErDmsIJkD9"
      },
      "source": [
        "## Simplified Vector Search with RedisVL"
      ]
    },
    {
      "cell_type": "markdown",
      "metadata": {
        "id": "KrtWWU4I1ui3"
      },
      "source": [
        "### Dataset Preparation (PDF Documents)\n",
        "\n",
        "To best demonstrate Redis as a vector database layer, we will load a single\n",
        "financial (10k filings) doc and preprocess it using some helpers from LangChain:\n",
        "\n",
        "- `PyPDFLoader` is not the only document loader type that LangChain provides. Docs: https://python.langchain.com/docs/integrations/document_loaders/pypdfloader/\n",
        "- `RecursiveCharacterTextSplitter` is what we use to create smaller chunks of text from the doc. Docs: https://python.langchain.com/docs/how_to/recursive_text_splitter/"
      ]
    },
    {
      "cell_type": "code",
      "execution_count": 6,
      "metadata": {
        "ExecuteTime": {
          "end_time": "2025-04-24T16:46:46.043726Z",
          "start_time": "2025-04-24T16:46:45.600472Z"
        },
        "colab": {
          "base_uri": "https://localhost:8080/"
        },
        "id": "uijl2qFH1ui3",
        "outputId": "c53f4733-25a7-4cd6-9820-b69d49f1500a"
      },
      "outputs": [
        {
          "output_type": "stream",
          "name": "stdout",
          "text": [
            "Listing available documents ... ['resources/msft-10k-2023.pdf', 'resources/amzn-10k-2023.pdf', 'resources/testset_15.csv', 'resources/retrieval_basic_rag_test.csv', 'resources/2022-chevy-colorado-ebrochure.pdf', 'resources/nvd-10k-2023.pdf', 'resources/propositions.json', 'resources/generation_basic_rag_test.csv', 'resources/jnj-10k-2023.pdf', 'resources/aapl-10k-2023.pdf', 'resources/nke-10k-2023.pdf', 'resources/testset.csv']\n"
          ]
        }
      ],
      "source": [
        "from langchain.text_splitter import RecursiveCharacterTextSplitter\n",
        "from langchain_community.document_loaders import PyPDFLoader\n",
        "\n",
        "# Load list of pdfs from a folder\n",
        "data_path = \"resources/\"\n",
        "docs = [os.path.join(data_path, file) for file in os.listdir(data_path)]\n",
        "\n",
        "print(\"Listing available documents ...\", docs)"
      ]
    },
    {
      "cell_type": "code",
      "execution_count": 7,
      "metadata": {
        "ExecuteTime": {
          "end_time": "2025-04-24T16:46:50.509810Z",
          "start_time": "2025-04-24T16:46:46.104219Z"
        },
        "colab": {
          "base_uri": "https://localhost:8080/"
        },
        "id": "anya8hVnT6K_",
        "outputId": "eee49efa-44be-40ee-80b4-bb825800f894"
      },
      "outputs": [
        {
          "output_type": "stream",
          "name": "stdout",
          "text": [
            "Done preprocessing. Created 211 chunks of the original pdf resources/nke-10k-2023.pdf\n"
          ]
        }
      ],
      "source": [
        "# pick out the Nike doc for this exercise\n",
        "doc = [doc for doc in docs if \"nke\" in doc][0]\n",
        "\n",
        "# set up the file loader/extractor and text splitter to create chunks\n",
        "text_splitter = RecursiveCharacterTextSplitter(\n",
        "    chunk_size=2500, chunk_overlap=0\n",
        ")\n",
        "loader = PyPDFLoader(doc, headers = None)\n",
        "\n",
        "# extract, load, and make chunks\n",
        "chunks = loader.load_and_split(text_splitter)\n",
        "\n",
        "print(\"Done preprocessing. Created\", len(chunks), \"chunks of the original pdf\", doc)"
      ]
    },
    {
      "cell_type": "markdown",
      "metadata": {
        "id": "fDN4XopTJkD9"
      },
      "source": [
        "### Text embedding generation with RedisVL\n",
        "RedisVL has built-in extensions and utilities to aid the GenAI development process. In the following snipit we utilize the HFTextVectorizer redisvl in tandem with the **all-MiniLM-L6-v2** class to generate vector embeddings for the chunks created above. These embeddings capture the \"meaning\" of the text so that we can retrieve the relevant chunks later when a user's query is semantically related."
      ]
    },
    {
      "cell_type": "code",
      "execution_count": 8,
      "metadata": {
        "ExecuteTime": {
          "end_time": "2025-04-24T16:46:55.588165Z",
          "start_time": "2025-04-24T16:46:50.528240Z"
        },
        "colab": {
          "base_uri": "https://localhost:8080/",
          "height": 391
        },
        "id": "N3iQ2aLEJkD9",
        "outputId": "68b8198e-0d56-42e4-b0e5-7b2dd82ea449"
      },
      "outputs": [
        {
          "output_type": "error",
          "ename": "ValueError",
          "evalue": "numpy.dtype size changed, may indicate binary incompatibility. Expected 96 from C header, got 88 from PyObject",
          "traceback": [
            "\u001b[0;31m---------------------------------------------------------------------------\u001b[0m",
            "\u001b[0;31mValueError\u001b[0m                                Traceback (most recent call last)",
            "\u001b[0;32m<ipython-input-8-ed1b6a85829b>\u001b[0m in \u001b[0;36m<cell line: 0>\u001b[0;34m()\u001b[0m\n\u001b[1;32m      1\u001b[0m \u001b[0;32mimport\u001b[0m \u001b[0mwarnings\u001b[0m\u001b[0;34m\u001b[0m\u001b[0;34m\u001b[0m\u001b[0m\n\u001b[0;32m----> 2\u001b[0;31m \u001b[0;32mimport\u001b[0m \u001b[0mpandas\u001b[0m \u001b[0;32mas\u001b[0m \u001b[0mpd\u001b[0m\u001b[0;34m\u001b[0m\u001b[0;34m\u001b[0m\u001b[0m\n\u001b[0m\u001b[1;32m      3\u001b[0m \u001b[0;32mfrom\u001b[0m \u001b[0mredisvl\u001b[0m\u001b[0;34m.\u001b[0m\u001b[0mutils\u001b[0m\u001b[0;34m.\u001b[0m\u001b[0mvectorize\u001b[0m \u001b[0;32mimport\u001b[0m \u001b[0mHFTextVectorizer\u001b[0m\u001b[0;34m,\u001b[0m \u001b[0mBaseVectorizer\u001b[0m\u001b[0;34m\u001b[0m\u001b[0;34m\u001b[0m\u001b[0m\n\u001b[1;32m      4\u001b[0m \u001b[0;32mfrom\u001b[0m \u001b[0mredisvl\u001b[0m\u001b[0;34m.\u001b[0m\u001b[0mextensions\u001b[0m\u001b[0;34m.\u001b[0m\u001b[0mcache\u001b[0m\u001b[0;34m.\u001b[0m\u001b[0membeddings\u001b[0m \u001b[0;32mimport\u001b[0m \u001b[0mEmbeddingsCache\u001b[0m\u001b[0;34m\u001b[0m\u001b[0;34m\u001b[0m\u001b[0m\n\u001b[1;32m      5\u001b[0m \u001b[0;34m\u001b[0m\u001b[0m\n",
            "\u001b[0;32m/usr/local/lib/python3.11/dist-packages/pandas/__init__.py\u001b[0m in \u001b[0;36m<module>\u001b[0;34m\u001b[0m\n\u001b[1;32m     35\u001b[0m     ) from _err\n\u001b[1;32m     36\u001b[0m \u001b[0;34m\u001b[0m\u001b[0m\n\u001b[0;32m---> 37\u001b[0;31m from pandas._config import (\n\u001b[0m\u001b[1;32m     38\u001b[0m     \u001b[0mget_option\u001b[0m\u001b[0;34m,\u001b[0m\u001b[0;34m\u001b[0m\u001b[0;34m\u001b[0m\u001b[0m\n\u001b[1;32m     39\u001b[0m     \u001b[0mset_option\u001b[0m\u001b[0;34m,\u001b[0m\u001b[0;34m\u001b[0m\u001b[0;34m\u001b[0m\u001b[0m\n",
            "\u001b[0;32m/usr/local/lib/python3.11/dist-packages/pandas/_config/__init__.py\u001b[0m in \u001b[0;36m<module>\u001b[0;34m\u001b[0m\n\u001b[1;32m     18\u001b[0m     \u001b[0;34m\"warn_copy_on_write\"\u001b[0m\u001b[0;34m,\u001b[0m\u001b[0;34m\u001b[0m\u001b[0;34m\u001b[0m\u001b[0m\n\u001b[1;32m     19\u001b[0m ]\n\u001b[0;32m---> 20\u001b[0;31m \u001b[0;32mfrom\u001b[0m \u001b[0mpandas\u001b[0m\u001b[0;34m.\u001b[0m\u001b[0m_config\u001b[0m \u001b[0;32mimport\u001b[0m \u001b[0mconfig\u001b[0m\u001b[0;34m\u001b[0m\u001b[0;34m\u001b[0m\u001b[0m\n\u001b[0m\u001b[1;32m     21\u001b[0m \u001b[0;32mfrom\u001b[0m \u001b[0mpandas\u001b[0m\u001b[0;34m.\u001b[0m\u001b[0m_config\u001b[0m \u001b[0;32mimport\u001b[0m \u001b[0mdates\u001b[0m  \u001b[0;31m# pyright: ignore[reportUnusedImport]  # noqa: F401\u001b[0m\u001b[0;34m\u001b[0m\u001b[0;34m\u001b[0m\u001b[0m\n\u001b[1;32m     22\u001b[0m from pandas._config.config import (\n",
            "\u001b[0;32m/usr/local/lib/python3.11/dist-packages/pandas/_config/config.py\u001b[0m in \u001b[0;36m<module>\u001b[0;34m\u001b[0m\n\u001b[1;32m     66\u001b[0m \u001b[0;32mimport\u001b[0m \u001b[0mwarnings\u001b[0m\u001b[0;34m\u001b[0m\u001b[0;34m\u001b[0m\u001b[0m\n\u001b[1;32m     67\u001b[0m \u001b[0;34m\u001b[0m\u001b[0m\n\u001b[0;32m---> 68\u001b[0;31m from pandas._typing import (\n\u001b[0m\u001b[1;32m     69\u001b[0m     \u001b[0mF\u001b[0m\u001b[0;34m,\u001b[0m\u001b[0;34m\u001b[0m\u001b[0;34m\u001b[0m\u001b[0m\n\u001b[1;32m     70\u001b[0m     \u001b[0mT\u001b[0m\u001b[0;34m,\u001b[0m\u001b[0;34m\u001b[0m\u001b[0;34m\u001b[0m\u001b[0m\n",
            "\u001b[0;32m/usr/local/lib/python3.11/dist-packages/pandas/_typing.py\u001b[0m in \u001b[0;36m<module>\u001b[0;34m\u001b[0m\n\u001b[1;32m    196\u001b[0m     \u001b[0mint\u001b[0m\u001b[0;34m,\u001b[0m\u001b[0;34m\u001b[0m\u001b[0;34m\u001b[0m\u001b[0m\n\u001b[1;32m    197\u001b[0m     \u001b[0mnp\u001b[0m\u001b[0;34m.\u001b[0m\u001b[0mndarray\u001b[0m\u001b[0;34m,\u001b[0m\u001b[0;34m\u001b[0m\u001b[0;34m\u001b[0m\u001b[0m\n\u001b[0;32m--> 198\u001b[0;31m     \u001b[0mnp\u001b[0m\u001b[0;34m.\u001b[0m\u001b[0mrandom\u001b[0m\u001b[0;34m.\u001b[0m\u001b[0mGenerator\u001b[0m\u001b[0;34m,\u001b[0m\u001b[0;34m\u001b[0m\u001b[0;34m\u001b[0m\u001b[0m\n\u001b[0m\u001b[1;32m    199\u001b[0m     \u001b[0mnp\u001b[0m\u001b[0;34m.\u001b[0m\u001b[0mrandom\u001b[0m\u001b[0;34m.\u001b[0m\u001b[0mBitGenerator\u001b[0m\u001b[0;34m,\u001b[0m\u001b[0;34m\u001b[0m\u001b[0;34m\u001b[0m\u001b[0m\n\u001b[1;32m    200\u001b[0m     \u001b[0mnp\u001b[0m\u001b[0;34m.\u001b[0m\u001b[0mrandom\u001b[0m\u001b[0;34m.\u001b[0m\u001b[0mRandomState\u001b[0m\u001b[0;34m,\u001b[0m\u001b[0;34m\u001b[0m\u001b[0;34m\u001b[0m\u001b[0m\n",
            "\u001b[0;32m/usr/local/lib/python3.11/dist-packages/numpy/__init__.py\u001b[0m in \u001b[0;36m__getattr__\u001b[0;34m(attr)\u001b[0m\n\u001b[1;32m    335\u001b[0m \u001b[0;34m\u001b[0m\u001b[0m\n\u001b[1;32m    336\u001b[0m     \u001b[0;32mdef\u001b[0m \u001b[0m__dir__\u001b[0m\u001b[0;34m(\u001b[0m\u001b[0;34m)\u001b[0m\u001b[0;34m:\u001b[0m\u001b[0;34m\u001b[0m\u001b[0;34m\u001b[0m\u001b[0m\n\u001b[0;32m--> 337\u001b[0;31m         \u001b[0mpublic_symbols\u001b[0m \u001b[0;34m=\u001b[0m \u001b[0mglobals\u001b[0m\u001b[0;34m(\u001b[0m\u001b[0;34m)\u001b[0m\u001b[0;34m.\u001b[0m\u001b[0mkeys\u001b[0m\u001b[0;34m(\u001b[0m\u001b[0;34m)\u001b[0m \u001b[0;34m|\u001b[0m \u001b[0;34m{\u001b[0m\u001b[0;34m'testing'\u001b[0m\u001b[0;34m}\u001b[0m\u001b[0;34m\u001b[0m\u001b[0;34m\u001b[0m\u001b[0m\n\u001b[0m\u001b[1;32m    338\u001b[0m         public_symbols -= {\n\u001b[1;32m    339\u001b[0m             \u001b[0;34m\"core\"\u001b[0m\u001b[0;34m,\u001b[0m \u001b[0;34m\"matrixlib\"\u001b[0m\u001b[0;34m,\u001b[0m\u001b[0;34m\u001b[0m\u001b[0;34m\u001b[0m\u001b[0m\n",
            "\u001b[0;32m/usr/local/lib/python3.11/dist-packages/numpy/random/__init__.py\u001b[0m in \u001b[0;36m<module>\u001b[0;34m\u001b[0m\n\u001b[1;32m    178\u001b[0m \u001b[0;34m\u001b[0m\u001b[0m\n\u001b[1;32m    179\u001b[0m \u001b[0;31m# add these for module-freeze analysis (like PyInstaller)\u001b[0m\u001b[0;34m\u001b[0m\u001b[0;34m\u001b[0m\u001b[0m\n\u001b[0;32m--> 180\u001b[0;31m \u001b[0;32mfrom\u001b[0m \u001b[0;34m.\u001b[0m \u001b[0;32mimport\u001b[0m \u001b[0m_pickle\u001b[0m\u001b[0;34m\u001b[0m\u001b[0;34m\u001b[0m\u001b[0m\n\u001b[0m\u001b[1;32m    181\u001b[0m \u001b[0;32mfrom\u001b[0m \u001b[0;34m.\u001b[0m \u001b[0;32mimport\u001b[0m \u001b[0m_common\u001b[0m\u001b[0;34m\u001b[0m\u001b[0;34m\u001b[0m\u001b[0m\n\u001b[1;32m    182\u001b[0m \u001b[0;32mfrom\u001b[0m \u001b[0;34m.\u001b[0m \u001b[0;32mimport\u001b[0m \u001b[0m_bounded_integers\u001b[0m\u001b[0;34m\u001b[0m\u001b[0;34m\u001b[0m\u001b[0m\n",
            "\u001b[0;32m/usr/local/lib/python3.11/dist-packages/numpy/random/_pickle.py\u001b[0m in \u001b[0;36m<module>\u001b[0;34m\u001b[0m\n\u001b[0;32m----> 1\u001b[0;31m \u001b[0;32mfrom\u001b[0m \u001b[0;34m.\u001b[0m\u001b[0mmtrand\u001b[0m \u001b[0;32mimport\u001b[0m \u001b[0mRandomState\u001b[0m\u001b[0;34m\u001b[0m\u001b[0;34m\u001b[0m\u001b[0m\n\u001b[0m\u001b[1;32m      2\u001b[0m \u001b[0;32mfrom\u001b[0m \u001b[0;34m.\u001b[0m\u001b[0m_philox\u001b[0m \u001b[0;32mimport\u001b[0m \u001b[0mPhilox\u001b[0m\u001b[0;34m\u001b[0m\u001b[0;34m\u001b[0m\u001b[0m\n\u001b[1;32m      3\u001b[0m \u001b[0;32mfrom\u001b[0m \u001b[0;34m.\u001b[0m\u001b[0m_pcg64\u001b[0m \u001b[0;32mimport\u001b[0m \u001b[0mPCG64\u001b[0m\u001b[0;34m,\u001b[0m \u001b[0mPCG64DXSM\u001b[0m\u001b[0;34m\u001b[0m\u001b[0;34m\u001b[0m\u001b[0m\n\u001b[1;32m      4\u001b[0m \u001b[0;32mfrom\u001b[0m \u001b[0;34m.\u001b[0m\u001b[0m_sfc64\u001b[0m \u001b[0;32mimport\u001b[0m \u001b[0mSFC64\u001b[0m\u001b[0;34m\u001b[0m\u001b[0;34m\u001b[0m\u001b[0m\n\u001b[1;32m      5\u001b[0m \u001b[0;34m\u001b[0m\u001b[0m\n",
            "\u001b[0;32mnumpy/random/mtrand.pyx\u001b[0m in \u001b[0;36minit numpy.random.mtrand\u001b[0;34m()\u001b[0m\n",
            "\u001b[0;31mValueError\u001b[0m: numpy.dtype size changed, may indicate binary incompatibility. Expected 96 from C header, got 88 from PyObject"
          ]
        }
      ],
      "source": [
        "import warnings\n",
        "import pandas as pd\n",
        "from redisvl.utils.vectorize import HFTextVectorizer, BaseVectorizer\n",
        "from redisvl.extensions.cache.embeddings import EmbeddingsCache\n",
        "\n",
        "warnings.filterwarnings(\"ignore\")\n",
        "os.environ[\"TOKENIZERS_PARALLELISM\"] = \"false\"\n",
        "\n",
        "hf = HFTextVectorizer(\n",
        "    model=\"sentence-transformers/all-MiniLM-L6-v2\",\n",
        "    cache=EmbeddingsCache(\n",
        "        name=\"embedcache\",\n",
        "        ttl=600,\n",
        "        redis_url=REDIS_URL,\n",
        "    )\n",
        ")\n",
        "\n",
        "# Embed each chunk content\n",
        "embeddings = hf.embed_many([chunk.page_content for chunk in chunks])\n",
        "\n",
        "# Check to make sure we've created enough embeddings, 1 per document chunk\n",
        "len(embeddings) == len(chunks)"
      ]
    },
    {
      "cell_type": "markdown",
      "metadata": {
        "id": "5baI0xDQ1ui-"
      },
      "source": [
        "### Define a schema and create an index\n",
        "\n",
        "Below we connect to Redis and create an index that contains a text field, tag field, and vector field."
      ]
    },
    {
      "cell_type": "code",
      "execution_count": null,
      "metadata": {
        "ExecuteTime": {
          "end_time": "2025-04-24T16:46:55.611260Z",
          "start_time": "2025-04-24T16:46:55.598846Z"
        },
        "id": "zB1EW_9n1ui-"
      },
      "outputs": [],
      "source": [
        "from redisvl.index import SearchIndex\n",
        "\n",
        "\n",
        "index_name = \"redisvl\"\n",
        "\n",
        "schema = {\n",
        "  \"index\": {\n",
        "    \"name\": index_name,\n",
        "    \"prefix\": \"chunk\"\n",
        "  },\n",
        "  \"fields\": [\n",
        "    {\n",
        "        \"name\": \"chunk_id\",\n",
        "        \"type\": \"tag\",\n",
        "        \"attrs\": {\n",
        "            \"sortable\": True\n",
        "        }\n",
        "    },\n",
        "    {\n",
        "        \"name\": \"content\",\n",
        "        \"type\": \"text\"\n",
        "    },\n",
        "    {\n",
        "        \"name\": \"text_embedding\",\n",
        "        \"type\": \"vector\",\n",
        "        \"attrs\": {\n",
        "            \"dims\": 384,\n",
        "            \"distance_metric\": \"cosine\",\n",
        "            \"algorithm\": \"hnsw\",\n",
        "            \"datatype\": \"float32\"\n",
        "        }\n",
        "    }\n",
        "  ]\n",
        "}"
      ]
    },
    {
      "cell_type": "code",
      "execution_count": null,
      "metadata": {
        "ExecuteTime": {
          "end_time": "2025-04-24T16:46:55.630056Z",
          "start_time": "2025-04-24T16:46:55.620207Z"
        },
        "id": "LKuQku2CJkD9",
        "outputId": "84802061-595f-42af-811e-efe03283c145"
      },
      "outputs": [
        {
          "name": "stdout",
          "output_type": "stream",
          "text": [
            "09:46:55 redisvl.index.index INFO   Index already exists, overwriting.\n"
          ]
        }
      ],
      "source": [
        "# create an index from schema and the client\n",
        "index = SearchIndex.from_dict(schema, redis_url=REDIS_URL)\n",
        "index.create(overwrite=True, drop=True)"
      ]
    },
    {
      "cell_type": "code",
      "execution_count": null,
      "metadata": {
        "id": "L6GOqmeN1ui_"
      },
      "outputs": [],
      "source": [
        "# use the RedisVL CLI tool to list all indices\n",
        "!rvl index listall"
      ]
    },
    {
      "cell_type": "code",
      "execution_count": null,
      "metadata": {
        "ExecuteTime": {
          "end_time": "2025-04-24T16:46:56.828176Z",
          "start_time": "2025-04-24T16:46:56.283831Z"
        },
        "colab": {
          "base_uri": "https://localhost:8080/"
        },
        "id": "C70C-UWj1ujA",
        "outputId": "1fb7a2d6-ae6d-4536-b4b7-702620efd128"
      },
      "outputs": [
        {
          "name": "stdout",
          "output_type": "stream",
          "text": [
            "\r\n",
            "\r\n",
            "Index Information:\r\n",
            "╭──────────────┬────────────────┬────────────┬─────────────────┬────────────╮\r\n",
            "│ Index Name   │ Storage Type   │ Prefixes   │ Index Options   │   Indexing │\r\n",
            "├──────────────┼────────────────┼────────────┼─────────────────┼────────────┤\r\n",
            "│ redisvl      │ HASH           │ ['chunk']  │ []              │          0 │\r\n",
            "╰──────────────┴────────────────┴────────────┴─────────────────┴────────────╯\r\n",
            "Index Fields:\r\n",
            "╭────────────────┬────────────────┬────────┬────────────────┬────────────────┬────────────────┬────────────────┬────────────────┬────────────────┬─────────────────┬────────────────┬────────────────┬────────────────┬─────────────────┬────────────────╮\r\n",
            "│ Name           │ Attribute      │ Type   │ Field Option   │ Option Value   │ Field Option   │ Option Value   │ Field Option   │   Option Value │ Field Option    │ Option Value   │ Field Option   │   Option Value │ Field Option    │   Option Value │\r\n",
            "├────────────────┼────────────────┼────────┼────────────────┼────────────────┼────────────────┼────────────────┼────────────────┼────────────────┼─────────────────┼────────────────┼────────────────┼────────────────┼─────────────────┼────────────────┤\r\n",
            "│ chunk_id       │ chunk_id       │ TAG    │ SEPARATOR      │ ,              │                │                │                │                │                 │                │                │                │                 │                │\r\n",
            "│ content        │ content        │ TEXT   │ WEIGHT         │ 1              │                │                │                │                │                 │                │                │                │                 │                │\r\n",
            "│ text_embedding │ text_embedding │ VECTOR │ algorithm      │ HNSW           │ data_type      │ FLOAT32        │ dim            │            384 │ distance_metric │ COSINE         │ M              │             16 │ ef_construction │            200 │\r\n",
            "╰────────────────┴────────────────┴────────┴────────────────┴────────────────┴────────────────┴────────────────┴────────────────┴────────────────┴─────────────────┴────────────────┴────────────────┴────────────────┴─────────────────┴────────────────╯\r\n"
          ]
        }
      ],
      "source": [
        "# get info about the index\n",
        "!rvl index info -i redisvl"
      ]
    },
    {
      "cell_type": "markdown",
      "metadata": {
        "id": "Qrj-jeGmBRTL"
      },
      "source": [
        "### Process and load dataset\n",
        "Below we use the RedisVL index to simply load the list of document chunks to Redis db."
      ]
    },
    {
      "cell_type": "code",
      "execution_count": null,
      "metadata": {
        "ExecuteTime": {
          "end_time": "2025-04-24T16:46:56.895623Z",
          "start_time": "2025-04-24T16:46:56.836700Z"
        },
        "id": "Zsg09Keg1ujA"
      },
      "outputs": [],
      "source": [
        "# load expects an iterable of dictionaries\n",
        "from redisvl.redis.utils import array_to_buffer\n",
        "\n",
        "data = [\n",
        "    {\n",
        "        'chunk_id': i,\n",
        "        'content': chunk.page_content,\n",
        "        # For HASH -- must convert embeddings to bytes\n",
        "        'text_embedding': array_to_buffer(embeddings[i], dtype='float32')\n",
        "    } for i, chunk in enumerate(chunks)\n",
        "]\n",
        "\n",
        "# RedisVL handles batching automatically\n",
        "keys = index.load(data, id_field=\"chunk_id\")"
      ]
    },
    {
      "cell_type": "markdown",
      "metadata": {
        "id": "-ZsFB-6Z1ujB"
      },
      "source": [
        "### Query the database\n",
        "Now we can use the RedisVL index to perform similarity search operations with Redis"
      ]
    },
    {
      "cell_type": "code",
      "execution_count": null,
      "metadata": {
        "ExecuteTime": {
          "end_time": "2025-04-24T16:46:56.991529Z",
          "start_time": "2025-04-24T16:46:56.903370Z"
        },
        "colab": {
          "base_uri": "https://localhost:8080/",
          "height": 85,
          "referenced_widgets": [
            "c75d5ab2049146e580efab9da9bbcdb0",
            "9ce1fb951e79468baa9d1aebfa4c4fae",
            "e96d1546380146078c18ec78363f7dac",
            "a3c36bb0d3b74c8ea56bf03521465b81",
            "9f306cfd66dc441aba923d4e051911fc",
            "9e3289444cb142c29ad7d569be2e25b8",
            "c20443e17308425596679c0544dab528",
            "f0bdd8f4d7b84bd5a1c209c591ce8787",
            "126743b52b254e54aa4f65bcb9e65aea",
            "debae380e6d24fb8ae712a6dd2226152",
            "aacb6f8ca39846d89e1e4e96656e3a36"
          ]
        },
        "id": "BkFv-_iC1ujB",
        "outputId": "c398d356-6bb7-43a9-ca95-cb7f167d1f38"
      },
      "outputs": [
        {
          "data": {
            "text/plain": [
              "'*=>[KNN 3 @text_embedding $vector AS vector_distance] RETURN 3 chunk_id content vector_distance SORTBY vector_distance ASC DIALECT 2 LIMIT 0 3'"
            ]
          },
          "execution_count": 12,
          "metadata": {},
          "output_type": "execute_result"
        }
      ],
      "source": [
        "from redisvl.query import VectorQuery\n",
        "\n",
        "query = \"Nike profit margins and company performance\"\n",
        "\n",
        "query_embedding = hf.embed(query)\n",
        "\n",
        "vector_query = VectorQuery(\n",
        "    vector=query_embedding,\n",
        "    vector_field_name=\"text_embedding\",\n",
        "    num_results=3,\n",
        "    return_fields=[\"chunk_id\", \"content\"],\n",
        "    return_score=True\n",
        ")\n",
        "\n",
        "# show the raw redis query\n",
        "str(vector_query)"
      ]
    },
    {
      "cell_type": "code",
      "execution_count": null,
      "metadata": {
        "ExecuteTime": {
          "end_time": "2025-04-24T16:46:57.008139Z",
          "start_time": "2025-04-24T16:46:56.999381Z"
        },
        "colab": {
          "base_uri": "https://localhost:8080/",
          "height": 143
        },
        "id": "5reL5qTW1ujC",
        "outputId": "dd58f191-54f5-4226-c4e1-70207d58f2dc"
      },
      "outputs": [
        {
          "data": {
            "text/html": [
              "<div>\n",
              "<style scoped>\n",
              "    .dataframe tbody tr th:only-of-type {\n",
              "        vertical-align: middle;\n",
              "    }\n",
              "\n",
              "    .dataframe tbody tr th {\n",
              "        vertical-align: top;\n",
              "    }\n",
              "\n",
              "    .dataframe thead th {\n",
              "        text-align: right;\n",
              "    }\n",
              "</style>\n",
              "<table border=\"1\" class=\"dataframe\">\n",
              "  <thead>\n",
              "    <tr style=\"text-align: right;\">\n",
              "      <th></th>\n",
              "      <th>id</th>\n",
              "      <th>vector_distance</th>\n",
              "      <th>chunk_id</th>\n",
              "      <th>content</th>\n",
              "    </tr>\n",
              "  </thead>\n",
              "  <tbody>\n",
              "    <tr>\n",
              "      <th>0</th>\n",
              "      <td>chunk:88</td>\n",
              "      <td>0.337694525719</td>\n",
              "      <td>88</td>\n",
              "      <td>Asia Pacific &amp; Latin America 1,932 1,896 2 % 1...</td>\n",
              "    </tr>\n",
              "    <tr>\n",
              "      <th>1</th>\n",
              "      <td>chunk:80</td>\n",
              "      <td>0.34205275774</td>\n",
              "      <td>80</td>\n",
              "      <td>Table of Contents\\nCONSOLIDATED OPERATING RESU...</td>\n",
              "    </tr>\n",
              "    <tr>\n",
              "      <th>2</th>\n",
              "      <td>chunk:87</td>\n",
              "      <td>0.357761025429</td>\n",
              "      <td>87</td>\n",
              "      <td>Table of Contents\\nOPERATING SEGMENTS\\nAs disc...</td>\n",
              "    </tr>\n",
              "  </tbody>\n",
              "</table>\n",
              "</div>"
            ],
            "text/plain": [
              "         id vector_distance chunk_id  \\\n",
              "0  chunk:88  0.337694525719       88   \n",
              "1  chunk:80   0.34205275774       80   \n",
              "2  chunk:87  0.357761025429       87   \n",
              "\n",
              "                                             content  \n",
              "0  Asia Pacific & Latin America 1,932 1,896 2 % 1...  \n",
              "1  Table of Contents\\nCONSOLIDATED OPERATING RESU...  \n",
              "2  Table of Contents\\nOPERATING SEGMENTS\\nAs disc...  "
            ]
          },
          "execution_count": 13,
          "metadata": {},
          "output_type": "execute_result"
        }
      ],
      "source": [
        "# execute the query with RedisVL\n",
        "result=index.query(vector_query)\n",
        "\n",
        "# view the results\n",
        "pd.DataFrame(result)"
      ]
    },
    {
      "cell_type": "code",
      "execution_count": null,
      "metadata": {
        "ExecuteTime": {
          "end_time": "2025-04-24T16:46:57.075644Z",
          "start_time": "2025-04-24T16:46:57.067304Z"
        },
        "colab": {
          "base_uri": "https://localhost:8080/"
        },
        "id": "rZrcd6n7T6LE",
        "outputId": "fad67a63-76bd-43b9-f62b-b1842ba47605"
      },
      "outputs": [
        {
          "name": "stdout",
          "output_type": "stream",
          "text": [
            "88 0.337694525719\n",
            "80 0.34205275774\n",
            "87 0.357761025429\n"
          ]
        }
      ],
      "source": [
        "# paginate through results\n",
        "for result in index.paginate(vector_query, page_size=1):\n",
        "    print(result[0][\"chunk_id\"], result[0][\"vector_distance\"], flush=True)"
      ]
    },
    {
      "cell_type": "markdown",
      "metadata": {
        "id": "0Ap6WqPLT6LE"
      },
      "source": [
        "### Sort by alternative fields"
      ]
    },
    {
      "cell_type": "code",
      "execution_count": null,
      "metadata": {
        "ExecuteTime": {
          "end_time": "2025-04-24T16:46:57.172397Z",
          "start_time": "2025-04-24T16:46:57.167834Z"
        },
        "colab": {
          "base_uri": "https://localhost:8080/",
          "height": 175
        },
        "id": "daLVm6OkLn9T",
        "outputId": "d77dfc4c-d451-4bf5-91c3-2155232570b9"
      },
      "outputs": [
        {
          "data": {
            "text/html": [
              "<div>\n",
              "<style scoped>\n",
              "    .dataframe tbody tr th:only-of-type {\n",
              "        vertical-align: middle;\n",
              "    }\n",
              "\n",
              "    .dataframe tbody tr th {\n",
              "        vertical-align: top;\n",
              "    }\n",
              "\n",
              "    .dataframe thead th {\n",
              "        text-align: right;\n",
              "    }\n",
              "</style>\n",
              "<table border=\"1\" class=\"dataframe\">\n",
              "  <thead>\n",
              "    <tr style=\"text-align: right;\">\n",
              "      <th></th>\n",
              "      <th>id</th>\n",
              "      <th>payload</th>\n",
              "      <th>vector_distance</th>\n",
              "      <th>chunk_id</th>\n",
              "    </tr>\n",
              "  </thead>\n",
              "  <tbody>\n",
              "    <tr>\n",
              "      <th>0</th>\n",
              "      <td>chunk:80</td>\n",
              "      <td>None</td>\n",
              "      <td>0.34205275774</td>\n",
              "      <td>80</td>\n",
              "    </tr>\n",
              "    <tr>\n",
              "      <th>1</th>\n",
              "      <td>chunk:83</td>\n",
              "      <td>None</td>\n",
              "      <td>0.378765881062</td>\n",
              "      <td>83</td>\n",
              "    </tr>\n",
              "    <tr>\n",
              "      <th>2</th>\n",
              "      <td>chunk:87</td>\n",
              "      <td>None</td>\n",
              "      <td>0.357761025429</td>\n",
              "      <td>87</td>\n",
              "    </tr>\n",
              "    <tr>\n",
              "      <th>3</th>\n",
              "      <td>chunk:88</td>\n",
              "      <td>None</td>\n",
              "      <td>0.337694525719</td>\n",
              "      <td>88</td>\n",
              "    </tr>\n",
              "  </tbody>\n",
              "</table>\n",
              "</div>"
            ],
            "text/plain": [
              "         id payload vector_distance chunk_id\n",
              "0  chunk:80    None   0.34205275774       80\n",
              "1  chunk:83    None  0.378765881062       83\n",
              "2  chunk:87    None  0.357761025429       87\n",
              "3  chunk:88    None  0.337694525719       88"
            ]
          },
          "execution_count": 15,
          "metadata": {},
          "output_type": "execute_result"
        }
      ],
      "source": [
        "# Sort by chunk_id field after vector search limits to topK\n",
        "vector_query = VectorQuery(\n",
        "    vector=query_embedding,\n",
        "    vector_field_name=\"text_embedding\",\n",
        "    num_results=4,\n",
        "    return_fields=[\"chunk_id\"],\n",
        "    return_score=True\n",
        ")\n",
        "\n",
        "# Decompose vector_query into the core query and the params\n",
        "query = vector_query.query\n",
        "params = vector_query.params\n",
        "\n",
        "# Pass query and params direct to index.search()\n",
        "result = index.search(\n",
        "    query.sort_by(\"chunk_id\", asc=True),\n",
        "    params\n",
        ")\n",
        "\n",
        "pd.DataFrame([doc.__dict__ for doc in result.docs])\n"
      ]
    },
    {
      "cell_type": "markdown",
      "metadata": {
        "id": "81PoXomtT6LF"
      },
      "source": [
        "### Add filters to vector queries"
      ]
    },
    {
      "cell_type": "code",
      "execution_count": null,
      "metadata": {
        "ExecuteTime": {
          "end_time": "2025-04-24T16:46:57.279677Z",
          "start_time": "2025-04-24T16:46:57.274997Z"
        },
        "colab": {
          "base_uri": "https://localhost:8080/",
          "height": 175
        },
        "id": "a11G3xXJ1ujC",
        "outputId": "d968add5-704d-4e22-d3bd-97c1d1103a75"
      },
      "outputs": [
        {
          "data": {
            "text/html": [
              "<div>\n",
              "<style scoped>\n",
              "    .dataframe tbody tr th:only-of-type {\n",
              "        vertical-align: middle;\n",
              "    }\n",
              "\n",
              "    .dataframe tbody tr th {\n",
              "        vertical-align: top;\n",
              "    }\n",
              "\n",
              "    .dataframe thead th {\n",
              "        text-align: right;\n",
              "    }\n",
              "</style>\n",
              "<table border=\"1\" class=\"dataframe\">\n",
              "  <thead>\n",
              "    <tr style=\"text-align: right;\">\n",
              "      <th></th>\n",
              "      <th>id</th>\n",
              "      <th>vector_distance</th>\n",
              "      <th>content</th>\n",
              "    </tr>\n",
              "  </thead>\n",
              "  <tbody>\n",
              "    <tr>\n",
              "      <th>0</th>\n",
              "      <td>chunk:83</td>\n",
              "      <td>0.378765881062</td>\n",
              "      <td>Table of Contents\\nGROSS MARGIN\\nFISCAL 2023 C...</td>\n",
              "    </tr>\n",
              "    <tr>\n",
              "      <th>1</th>\n",
              "      <td>chunk:129</td>\n",
              "      <td>0.418757200241</td>\n",
              "      <td>Table of Contents\\nNIKE, INC.\\nCONSOLIDATED ST...</td>\n",
              "    </tr>\n",
              "    <tr>\n",
              "      <th>2</th>\n",
              "      <td>chunk:73</td>\n",
              "      <td>0.465415120125</td>\n",
              "      <td>Table of Contents\\nITEM 7. MANAGEMENT'S DISCUS...</td>\n",
              "    </tr>\n",
              "    <tr>\n",
              "      <th>3</th>\n",
              "      <td>chunk:63</td>\n",
              "      <td>0.49339401722</td>\n",
              "      <td>existing businesses, such as our NIKE Direct o...</td>\n",
              "    </tr>\n",
              "  </tbody>\n",
              "</table>\n",
              "</div>"
            ],
            "text/plain": [
              "          id vector_distance  \\\n",
              "0   chunk:83  0.378765881062   \n",
              "1  chunk:129  0.418757200241   \n",
              "2   chunk:73  0.465415120125   \n",
              "3   chunk:63   0.49339401722   \n",
              "\n",
              "                                             content  \n",
              "0  Table of Contents\\nGROSS MARGIN\\nFISCAL 2023 C...  \n",
              "1  Table of Contents\\nNIKE, INC.\\nCONSOLIDATED ST...  \n",
              "2  Table of Contents\\nITEM 7. MANAGEMENT'S DISCUS...  \n",
              "3  existing businesses, such as our NIKE Direct o...  "
            ]
          },
          "execution_count": 16,
          "metadata": {},
          "output_type": "execute_result"
        }
      ],
      "source": [
        "from redisvl.query.filter import Text\n",
        "\n",
        "vector_query = VectorQuery(\n",
        "    vector=query_embedding,\n",
        "    vector_field_name=\"text_embedding\",\n",
        "    num_results=4,\n",
        "    return_fields=[\"content\"],\n",
        "    return_score=True\n",
        ")\n",
        "\n",
        "# Set a text filter\n",
        "text_filter = Text(\"content\") % \"profit\"\n",
        "\n",
        "vector_query.set_filter(text_filter)\n",
        "\n",
        "result=index.query(vector_query)\n",
        "pd.DataFrame(result)"
      ]
    },
    {
      "cell_type": "markdown",
      "metadata": {
        "id": "5XvVv8zAT6LF"
      },
      "source": [
        "### Range queries in RedisVL"
      ]
    },
    {
      "cell_type": "code",
      "execution_count": null,
      "metadata": {
        "ExecuteTime": {
          "end_time": "2025-04-24T16:46:57.391116Z",
          "start_time": "2025-04-24T16:46:57.389349Z"
        },
        "id": "bCffoZRx1ujD"
      },
      "outputs": [],
      "source": [
        "from redisvl.query import RangeQuery\n",
        "\n",
        "range_query = RangeQuery(\n",
        "    vector=query_embedding,\n",
        "    vector_field_name=\"text_embedding\",\n",
        "    num_results=4,\n",
        "    return_fields=[\"content\"],\n",
        "    return_score=True,\n",
        "    distance_threshold=0.8  # find all items with a semantic distance of less than 0.8\n",
        ")"
      ]
    },
    {
      "cell_type": "code",
      "execution_count": null,
      "metadata": {
        "ExecuteTime": {
          "end_time": "2025-04-24T16:46:57.499232Z",
          "start_time": "2025-04-24T16:46:57.494328Z"
        },
        "colab": {
          "base_uri": "https://localhost:8080/",
          "height": 175
        },
        "id": "0gHmam1Q1ujD",
        "outputId": "ac80a6ed-4eb8-44d3-881d-87c9271aa10e"
      },
      "outputs": [
        {
          "data": {
            "text/html": [
              "<div>\n",
              "<style scoped>\n",
              "    .dataframe tbody tr th:only-of-type {\n",
              "        vertical-align: middle;\n",
              "    }\n",
              "\n",
              "    .dataframe tbody tr th {\n",
              "        vertical-align: top;\n",
              "    }\n",
              "\n",
              "    .dataframe thead th {\n",
              "        text-align: right;\n",
              "    }\n",
              "</style>\n",
              "<table border=\"1\" class=\"dataframe\">\n",
              "  <thead>\n",
              "    <tr style=\"text-align: right;\">\n",
              "      <th></th>\n",
              "      <th>id</th>\n",
              "      <th>vector_distance</th>\n",
              "      <th>content</th>\n",
              "    </tr>\n",
              "  </thead>\n",
              "  <tbody>\n",
              "    <tr>\n",
              "      <th>0</th>\n",
              "      <td>chunk:88</td>\n",
              "      <td>0.337694525719</td>\n",
              "      <td>Asia Pacific &amp; Latin America 1,932 1,896 2 % 1...</td>\n",
              "    </tr>\n",
              "    <tr>\n",
              "      <th>1</th>\n",
              "      <td>chunk:80</td>\n",
              "      <td>0.34205275774</td>\n",
              "      <td>Table of Contents\\nCONSOLIDATED OPERATING RESU...</td>\n",
              "    </tr>\n",
              "    <tr>\n",
              "      <th>2</th>\n",
              "      <td>chunk:87</td>\n",
              "      <td>0.357761025429</td>\n",
              "      <td>Table of Contents\\nOPERATING SEGMENTS\\nAs disc...</td>\n",
              "    </tr>\n",
              "    <tr>\n",
              "      <th>3</th>\n",
              "      <td>chunk:83</td>\n",
              "      <td>0.378765881062</td>\n",
              "      <td>Table of Contents\\nGROSS MARGIN\\nFISCAL 2023 C...</td>\n",
              "    </tr>\n",
              "  </tbody>\n",
              "</table>\n",
              "</div>"
            ],
            "text/plain": [
              "         id vector_distance                                            content\n",
              "0  chunk:88  0.337694525719  Asia Pacific & Latin America 1,932 1,896 2 % 1...\n",
              "1  chunk:80   0.34205275774  Table of Contents\\nCONSOLIDATED OPERATING RESU...\n",
              "2  chunk:87  0.357761025429  Table of Contents\\nOPERATING SEGMENTS\\nAs disc...\n",
              "3  chunk:83  0.378765881062  Table of Contents\\nGROSS MARGIN\\nFISCAL 2023 C..."
            ]
          },
          "execution_count": 18,
          "metadata": {},
          "output_type": "execute_result"
        }
      ],
      "source": [
        "result=index.query(range_query)\n",
        "pd.DataFrame(result)"
      ]
    },
    {
      "cell_type": "code",
      "execution_count": null,
      "metadata": {
        "ExecuteTime": {
          "end_time": "2025-04-24T16:46:57.667013Z",
          "start_time": "2025-04-24T16:46:57.662153Z"
        },
        "colab": {
          "base_uri": "https://localhost:8080/",
          "height": 175
        },
        "id": "YZg4U21r1ujD",
        "outputId": "d3db5ac3-6ae9-42c4-aaee-874cecafe3ad"
      },
      "outputs": [
        {
          "data": {
            "text/html": [
              "<div>\n",
              "<style scoped>\n",
              "    .dataframe tbody tr th:only-of-type {\n",
              "        vertical-align: middle;\n",
              "    }\n",
              "\n",
              "    .dataframe tbody tr th {\n",
              "        vertical-align: top;\n",
              "    }\n",
              "\n",
              "    .dataframe thead th {\n",
              "        text-align: right;\n",
              "    }\n",
              "</style>\n",
              "<table border=\"1\" class=\"dataframe\">\n",
              "  <thead>\n",
              "    <tr style=\"text-align: right;\">\n",
              "      <th></th>\n",
              "      <th>id</th>\n",
              "      <th>vector_distance</th>\n",
              "      <th>content</th>\n",
              "    </tr>\n",
              "  </thead>\n",
              "  <tbody>\n",
              "    <tr>\n",
              "      <th>0</th>\n",
              "      <td>chunk:88</td>\n",
              "      <td>0.337694525719</td>\n",
              "      <td>Asia Pacific &amp; Latin America 1,932 1,896 2 % 1...</td>\n",
              "    </tr>\n",
              "    <tr>\n",
              "      <th>1</th>\n",
              "      <td>chunk:80</td>\n",
              "      <td>0.34205275774</td>\n",
              "      <td>Table of Contents\\nCONSOLIDATED OPERATING RESU...</td>\n",
              "    </tr>\n",
              "    <tr>\n",
              "      <th>2</th>\n",
              "      <td>chunk:87</td>\n",
              "      <td>0.357761025429</td>\n",
              "      <td>Table of Contents\\nOPERATING SEGMENTS\\nAs disc...</td>\n",
              "    </tr>\n",
              "    <tr>\n",
              "      <th>3</th>\n",
              "      <td>chunk:83</td>\n",
              "      <td>0.378765881062</td>\n",
              "      <td>Table of Contents\\nGROSS MARGIN\\nFISCAL 2023 C...</td>\n",
              "    </tr>\n",
              "  </tbody>\n",
              "</table>\n",
              "</div>"
            ],
            "text/plain": [
              "         id vector_distance                                            content\n",
              "0  chunk:88  0.337694525719  Asia Pacific & Latin America 1,932 1,896 2 % 1...\n",
              "1  chunk:80   0.34205275774  Table of Contents\\nCONSOLIDATED OPERATING RESU...\n",
              "2  chunk:87  0.357761025429  Table of Contents\\nOPERATING SEGMENTS\\nAs disc...\n",
              "3  chunk:83  0.378765881062  Table of Contents\\nGROSS MARGIN\\nFISCAL 2023 C..."
            ]
          },
          "execution_count": 19,
          "metadata": {},
          "output_type": "execute_result"
        }
      ],
      "source": [
        "# Add filter to range query\n",
        "range_query.set_filter(text_filter)\n",
        "\n",
        "index.query(range_query)\n",
        "pd.DataFrame(result)"
      ]
    },
    {
      "cell_type": "markdown",
      "metadata": {
        "id": "zYYPTQN7T6LG"
      },
      "source": [
        "## Building a basic RAG Pipeline from Scratch\n",
        "We're going to build a basic RAG pipeline from scratch incorporating the following components:\n",
        "\n",
        "- Standard semantic search\n",
        "- Integration with OpenAI for LLM\n",
        "- Chat completion"
      ]
    },
    {
      "cell_type": "markdown",
      "metadata": {
        "id": "rCWlVR2OT6LG"
      },
      "source": [
        "### Setup RedisVL AsyncSearchIndex"
      ]
    },
    {
      "cell_type": "code",
      "execution_count": null,
      "metadata": {
        "ExecuteTime": {
          "end_time": "2025-04-24T16:46:57.734454Z",
          "start_time": "2025-04-24T16:46:57.732810Z"
        },
        "id": "_esLGYzbT6LG"
      },
      "outputs": [],
      "source": [
        "from redisvl.index import AsyncSearchIndex\n",
        "\n",
        "async_index = AsyncSearchIndex.from_dict(schema, redis_url=REDIS_URL)"
      ]
    },
    {
      "cell_type": "markdown",
      "metadata": {
        "id": "peK4C5xGJkED"
      },
      "source": [
        "### Setup OpenAI API"
      ]
    },
    {
      "cell_type": "code",
      "execution_count": null,
      "metadata": {
        "ExecuteTime": {
          "end_time": "2025-04-24T16:47:12.289527Z",
          "start_time": "2025-04-24T16:46:57.837857Z"
        },
        "id": "EgdTvz6zJkED"
      },
      "outputs": [],
      "source": [
        "import openai\n",
        "import os\n",
        "import getpass\n",
        "\n",
        "\n",
        "CHAT_MODEL = \"gpt-3.5-turbo-0125\"\n",
        "\n",
        "if \"OPENAI_API_KEY\" not in os.environ:\n",
        "    os.environ[\"OPENAI_API_KEY\"] = getpass.getpass(\"OPENAI_API_KEY :\")\n"
      ]
    },
    {
      "cell_type": "markdown",
      "metadata": {
        "id": "w8Af-zneT6LH"
      },
      "source": [
        "### Baseline Retrieval Augmented Generation\n",
        "The code below answers a user's questions following this basic flow:\n",
        "\n",
        "1. Generate a query_vector from the user's chat question to have an apples to apples comparison against the vector database.\n",
        "2. Retrieve the most semantically relevant chunks to the user's query from the database.\n",
        "3. Pass the user query and retrieved context to the `promptify` function to generate the final prompt to be sent to the LLM along with the system prompt and necessary hyperparameters.\n",
        "4. Return the LLMs response to the user."
      ]
    },
    {
      "cell_type": "code",
      "execution_count": null,
      "metadata": {
        "ExecuteTime": {
          "end_time": "2025-04-24T16:47:12.308509Z",
          "start_time": "2025-04-24T16:47:12.303243Z"
        },
        "id": "1V1Tio4-ZjmA"
      },
      "outputs": [],
      "source": [
        "\n",
        "async def answer_question(index: AsyncSearchIndex, query: str):\n",
        "    \"\"\"Answer the user's question\"\"\"\n",
        "\n",
        "    SYSTEM_PROMPT = \"\"\"You are a helpful financial analyst assistant that has access\n",
        "    to public financial 10k documents in order to answer users questions about company\n",
        "    performance, ethics, characteristics, and core information.\n",
        "    \"\"\"\n",
        "\n",
        "    query_vector = hf.embed(query)\n",
        "    # Fetch context from Redis using vector search\n",
        "    context = await retrieve_context(index, query_vector)\n",
        "    # Generate contextualized prompt and feed to OpenAI\n",
        "    response = await openai.AsyncClient().chat.completions.create(\n",
        "        model=CHAT_MODEL,\n",
        "        messages=[\n",
        "            {\"role\": \"system\", \"content\": SYSTEM_PROMPT},\n",
        "            {\"role\": \"user\", \"content\": promptify(query, context)}\n",
        "        ],\n",
        "        temperature=0.1,\n",
        "        seed=42\n",
        "    )\n",
        "    # Response provided by LLM\n",
        "    return response.choices[0].message.content\n",
        "\n",
        "\n",
        "async def retrieve_context(async_index: AsyncSearchIndex, query_vector) -> str:\n",
        "    \"\"\"Fetch the relevant context from Redis using vector search\"\"\"\n",
        "    results = await async_index.query(\n",
        "        VectorQuery(\n",
        "            vector=query_vector,\n",
        "            vector_field_name=\"text_embedding\",\n",
        "            return_fields=[\"content\"],\n",
        "            num_results=3\n",
        "        )\n",
        "    )\n",
        "    content = \"\\n\".join([result[\"content\"] for result in results])\n",
        "    return content\n",
        "\n",
        "\n",
        "def promptify(query: str, context: str) -> str:\n",
        "    return f'''Use the provided context below derived from public financial\n",
        "    documents to answer the user's question. If you can't answer the user's\n",
        "    question, based on the context; do not guess. If there is no context at all,\n",
        "    respond with \"I don't know\".\n",
        "\n",
        "    User question:\n",
        "\n",
        "    {query}\n",
        "\n",
        "    Helpful context:\n",
        "\n",
        "    {context}\n",
        "\n",
        "    Answer:\n",
        "    '''"
      ]
    },
    {
      "cell_type": "markdown",
      "metadata": {
        "id": "kgVM_g01T6LP"
      },
      "source": [
        "### Let's test it out..."
      ]
    },
    {
      "cell_type": "code",
      "execution_count": null,
      "metadata": {
        "ExecuteTime": {
          "end_time": "2025-04-24T16:47:12.339354Z",
          "start_time": "2025-04-24T16:47:12.337769Z"
        },
        "id": "pn-PoACdbihY"
      },
      "outputs": [],
      "source": [
        "# Generate a list of questions\n",
        "questions = [\n",
        "    \"What is the trend in the company's revenue and profit over the past few years?\",\n",
        "    \"What are the company's primary revenue sources?\",\n",
        "    \"How much debt does the company have, and what are its capital expenditure plans?\",\n",
        "    \"What does the company say about its environmental, social, and governance (ESG) practices?\",\n",
        "    \"What is the company's strategy for growth?\"\n",
        "]"
      ]
    },
    {
      "cell_type": "code",
      "execution_count": null,
      "metadata": {
        "ExecuteTime": {
          "end_time": "2025-04-24T16:47:20.587275Z",
          "start_time": "2025-04-24T16:47:12.352722Z"
        },
        "id": "9M_iU6_hbv0J"
      },
      "outputs": [],
      "source": [
        "import asyncio\n",
        "\n",
        "results = await asyncio.gather(*[\n",
        "    answer_question(async_index, question) for question in questions\n",
        "])"
      ]
    },
    {
      "cell_type": "markdown",
      "metadata": {
        "id": "CpQ59SRgJkED"
      },
      "source": [
        "### Let's view the results"
      ]
    },
    {
      "cell_type": "code",
      "execution_count": null,
      "metadata": {
        "ExecuteTime": {
          "end_time": "2025-04-24T16:47:20.604843Z",
          "start_time": "2025-04-24T16:47:20.602566Z"
        },
        "colab": {
          "base_uri": "https://localhost:8080/"
        },
        "id": "7SZM_xg3b9Gb",
        "outputId": "758ae31a-2291-4191-aa57-ee941d3319cb"
      },
      "outputs": [
        {
          "name": "stdout",
          "output_type": "stream",
          "text": [
            "Question: What is the trend in the company's revenue and profit over the past few years?\n",
            "Answer: \n",
            " The trend in the company's revenue and profit over the past few years is as follows:\n",
            "\n",
            "- Revenue:\n",
            "  - Fiscal Year 2023: Total revenue for Nike, Inc. was $51,217 million, showing a 10% increase from the previous year.\n",
            "  - Fiscal Year 2022: Total revenue for Nike, Inc. was $46,710 million, showing a 10% increase from the year before.\n",
            "  - Fiscal Year 2021: Total revenue for Nike, Inc. was $44,538 million.\n",
            "\n",
            "- Profit (EBIT):\n",
            "  - Fiscal Year 2023: EBIT for Nike, Inc. was not provided in the context.\n",
            "  - Fiscal Year 2022: EBIT for Nike, Inc. was not provided in the context.\n",
            "  - Fiscal Year 2021: EBIT for Nike, Inc. was not provided in the context.\n",
            "\n",
            "Based on the revenue figures provided, there has been a consistent increase in revenue for Nike, Inc. over the past few years. However, without the EBIT figures, we cannot determine the trend in profit over the same period. \n",
            "-----------\n",
            "\n",
            "Question: What are the company's primary revenue sources?\n",
            "Answer: \n",
            " The company's primary revenue sources are as follows:\n",
            "\n",
            "1. Footwear\n",
            "2. Apparel\n",
            "3. Equipment\n",
            "4. Other (including licensing and miscellaneous revenues)\n",
            "\n",
            "These revenues are further broken down by sales to wholesale customers, sales through direct to consumer channels, and other sources. \n",
            "-----------\n",
            "\n",
            "Question: How much debt does the company have, and what are its capital expenditure plans?\n",
            "Answer: \n",
            " The company has a total long-term debt of $8,927 million as of May 31, 2023. The capital expenditure plans are not explicitly mentioned in the provided context. \n",
            "-----------\n",
            "\n",
            "Question: What does the company say about its environmental, social, and governance (ESG) practices?\n",
            "Answer: \n",
            " The company acknowledges the increased focus on sustainability matters, responsible sourcing, deforestation, energy and water usage, and packaging recyclability. They mention that complying with legislative and regulatory initiatives related to climate change may increase costs and complexity. The company has announced sustainability-related goals and targets, but there are risks and uncertainties associated with achieving them. They highlight that failure to meet these goals or respond to new legal requirements could result in adverse publicity and impact their business and reputation. \n",
            "-----------\n",
            "\n",
            "Question: What is the company's strategy for growth?\n",
            "Answer: \n",
            " Based on the provided financial data, it appears that the company's strategy for growth includes focusing on expanding its revenues across different geographic regions and product lines. The company has shown consistent growth in revenues over the years, with increases in all major segments such as North America, Europe, Middle East & Africa, Greater China, and Asia Pacific & Latin America. Additionally, the company has been investing in property, plant, and equipment to support its growth, as evidenced by the increasing additions to these assets over the years. Furthermore, the company's strategy includes a mix of sales to wholesale customers and direct-to-consumer sales channels to drive revenue growth. \n",
            "-----------\n",
            "\n"
          ]
        }
      ],
      "source": [
        "for i, r in enumerate(results):\n",
        "    print(f\"Question: {questions[i]}\")\n",
        "    print(f\"Answer: \\n {r}\", \"\\n-----------\\n\")"
      ]
    },
    {
      "cell_type": "markdown",
      "metadata": {
        "id": "ZGUDUzxGfj8a"
      },
      "source": [
        "### Improve performance and cut costs with LLM caching"
      ]
    },
    {
      "cell_type": "code",
      "execution_count": null,
      "metadata": {
        "ExecuteTime": {
          "end_time": "2025-04-24T16:47:20.654925Z",
          "start_time": "2025-04-24T16:47:20.639324Z"
        },
        "id": "NnXu3Pe_fj8a",
        "outputId": "f76174bf-b1fa-4472-a797-50e45ee7fd85"
      },
      "outputs": [
        {
          "name": "stdout",
          "output_type": "stream",
          "text": [
            "09:47:20 redisvl.index.index INFO   Index already exists, overwriting.\n"
          ]
        }
      ],
      "source": [
        "from redisvl.extensions.llmcache import SemanticCache\n",
        "\n",
        "llmcache = SemanticCache(\n",
        "    name=\"llmcache\",\n",
        "    vectorizer=hf,\n",
        "    redis_url=REDIS_URL,\n",
        "    ttl=120,\n",
        "    distance_threshold=0.2,\n",
        "    overwrite=True,\n",
        ")"
      ]
    },
    {
      "cell_type": "code",
      "execution_count": null,
      "metadata": {
        "ExecuteTime": {
          "end_time": "2025-04-24T16:47:20.666720Z",
          "start_time": "2025-04-24T16:47:20.664080Z"
        },
        "id": "1ov8XWrjfj8a"
      },
      "outputs": [],
      "source": [
        "from functools import wraps\n",
        "\n",
        "# Create an LLM caching decorator\n",
        "def cache(func):\n",
        "    @wraps(func)\n",
        "    async def wrapper(index, query_text, *args, **kwargs):\n",
        "        query_vector = llmcache._vectorizer.embed(query_text)\n",
        "\n",
        "        # Check the cache with the vector\n",
        "        if result := llmcache.check(vector=query_vector):\n",
        "            print(\"Cache hit!\")\n",
        "            return result[0]['response']\n",
        "\n",
        "        response = await func(index, query_text, query_vector=query_vector)\n",
        "        llmcache.store(query_text, response, query_vector)\n",
        "        return response\n",
        "    return wrapper\n",
        "\n",
        "\n",
        "@cache\n",
        "async def answer_question(index: AsyncSearchIndex, query: str, **kwargs):\n",
        "    \"\"\"Answer the user's question\"\"\"\n",
        "\n",
        "    SYSTEM_PROMPT = \"\"\"You are a helpful financial analyst assistant that has access\n",
        "    to public financial 10k documents in order to answer users questions about company\n",
        "    performance, ethics, characteristics, and core information.\n",
        "    \"\"\"\n",
        "\n",
        "    context = await retrieve_context(index, kwargs[\"query_vector\"])\n",
        "    response = await openai.AsyncClient().chat.completions.create(\n",
        "        model=CHAT_MODEL,\n",
        "        messages=[\n",
        "            {\"role\": \"system\", \"content\": SYSTEM_PROMPT},\n",
        "            {\"role\": \"user\", \"content\": promptify(query, context)}\n",
        "        ],\n",
        "        temperature=0.1,\n",
        "        seed=42\n",
        "    )\n",
        "    # Response provided by GPT-3.5\n",
        "    return response.choices[0].message.content"
      ]
    },
    {
      "cell_type": "code",
      "execution_count": null,
      "metadata": {
        "ExecuteTime": {
          "end_time": "2025-04-24T16:47:21.577338Z",
          "start_time": "2025-04-24T16:47:20.691181Z"
        },
        "id": "8-L6n_KOfj8a",
        "outputId": "233b300c-d83c-43c3-fa26-2c616a7684ac"
      },
      "outputs": [
        {
          "data": {
            "text/plain": [
              "\"Nike's total revenues were $51.2 billion in fiscal year 2023, compared to $46.7 billion in fiscal year 2022. This represents a 10% increase in revenue from the previous year.\""
            ]
          },
          "execution_count": 28,
          "metadata": {},
          "output_type": "execute_result"
        }
      ],
      "source": [
        "# NBVAL_SKIP\n",
        "query = \"What was Nike's revenue last year compared to this year??\"\n",
        "\n",
        "await answer_question(async_index, query)"
      ]
    },
    {
      "cell_type": "code",
      "execution_count": null,
      "metadata": {
        "ExecuteTime": {
          "end_time": "2025-04-24T16:47:21.606033Z",
          "start_time": "2025-04-24T16:47:21.590864Z"
        },
        "id": "TyysNcYBfj8a",
        "outputId": "6661cf99-288a-4b05-c478-0c4a62d76ae7"
      },
      "outputs": [
        {
          "name": "stdout",
          "output_type": "stream",
          "text": [
            "Cache hit!\n"
          ]
        },
        {
          "data": {
            "text/plain": [
              "\"Nike's total revenues were $51.2 billion in fiscal year 2023, compared to $46.7 billion in fiscal year 2022. This represents a 10% increase in revenue from the previous year.\""
            ]
          },
          "execution_count": 29,
          "metadata": {},
          "output_type": "execute_result"
        }
      ],
      "source": [
        "# NBVAL_SKIP\n",
        "query = \"What was Nike's total revenue in the last year compared to now??\"\n",
        "\n",
        "await answer_question(async_index, query)\n",
        "\n",
        "# notice no HTTP request to OpenAI since this question is \"close enough\" to the last one"
      ]
    },
    {
      "cell_type": "markdown",
      "metadata": {
        "id": "Prr_jIEofj8a"
      },
      "source": [
        "### Improve personalization by including chat session history\n",
        "\n",
        "To preserve state in the conversation, offload conversation history to a database that can handle high transaction throughput for writes/reads to limit system latency.\n"
      ]
    },
    {
      "cell_type": "code",
      "execution_count": null,
      "metadata": {
        "ExecuteTime": {
          "end_time": "2025-04-24T16:47:21.642412Z",
          "start_time": "2025-04-24T16:47:21.634222Z"
        },
        "id": "DhyXlmrGfj8a"
      },
      "outputs": [],
      "source": [
        "from functools import wraps\n",
        "from redisvl.extensions.session_manager import StandardSessionManager\n",
        "\n",
        "\n",
        "class ChatBot:\n",
        "    def __init__(self, index: AsyncSearchIndex, vectorizer: BaseVectorizer, user: str):\n",
        "        self.index = index\n",
        "        self.vectorizer = vectorizer\n",
        "        self.session_manager = StandardSessionManager(\n",
        "            name=f\"chat_session_{user}\",\n",
        "            session_tag=user,\n",
        "            redis_url=REDIS_URL,\n",
        "        )\n",
        "\n",
        "    @staticmethod\n",
        "    def promptify(query: str, context: str) -> str:\n",
        "        return f'''Use the provided context below derived from public financial\n",
        "        documents to answer the user's question. If you can't answer the user's\n",
        "        question, based on the context; do not guess. If there is no context at all,\n",
        "        respond with \"I don't know\".\n",
        "\n",
        "        User question:\n",
        "\n",
        "        {query}\n",
        "\n",
        "        Helpful context:\n",
        "\n",
        "        {context}\n",
        "\n",
        "        Answer:\n",
        "        '''\n",
        "\n",
        "    async def retrieve_context(self, query_vector) -> str:\n",
        "        \"\"\"Fetch the relevant context from Redis using vector search\"\"\"\n",
        "        results = await self.index.query(\n",
        "            VectorQuery(\n",
        "                vector=query_vector,\n",
        "                vector_field_name=\"text_embedding\",\n",
        "                return_fields=[\"content\"],\n",
        "                num_results=3\n",
        "            )\n",
        "        )\n",
        "        content = \"\\n\".join([result[\"content\"] for result in results])\n",
        "        return content\n",
        "\n",
        "    async def clear_history(self):\n",
        "        \"\"\"Clear session chat\"\"\"\n",
        "        self.session_manager.clear()\n",
        "\n",
        "    async def answer_question(self, query: str):\n",
        "        \"\"\"Answer the user's question with historical context and caching baked-in\"\"\"\n",
        "\n",
        "        SYSTEM_PROMPT = \"\"\"You are a helpful financial analyst assistant that has access\n",
        "        to public financial 10k documents in order to answer users questions about company\n",
        "        performance, ethics, characteristics, and core information.\n",
        "        \"\"\"\n",
        "\n",
        "        # Create query vector\n",
        "        query_vector = self.vectorizer.embed(query)\n",
        "\n",
        "        # Check the cache with the vector\n",
        "        if result := llmcache.check(vector=query_vector):\n",
        "            answer = result[0]['response']\n",
        "        else:\n",
        "            context = await self.retrieve_context(query_vector)\n",
        "            session = self.session_manager.messages\n",
        "            messages = (\n",
        "                [{\"role\": \"system\", \"content\": SYSTEM_PROMPT}] +\n",
        "                session +\n",
        "                [{\"role\": \"user\", \"content\": self.promptify(query, context)}]\n",
        "            )\n",
        "            # Response provided by GPT-3.5\n",
        "            response = await openai.AsyncClient().chat.completions.create(\n",
        "                model=CHAT_MODEL,\n",
        "                messages=messages,\n",
        "                temperature=0.1,\n",
        "                seed=42\n",
        "            )\n",
        "            answer = response.choices[0].message.content\n",
        "            llmcache.store(query, answer, query_vector)\n",
        "\n",
        "        # Add message history\n",
        "        self.session_manager.add_messages([\n",
        "            {\"role\": \"user\", \"content\": query},\n",
        "            {\"role\": \"assistant\", \"content\": answer}\n",
        "        ])\n",
        "\n",
        "        return answer"
      ]
    },
    {
      "cell_type": "markdown",
      "metadata": {
        "id": "CNgXbbKZfj8a"
      },
      "source": [
        "## Test the entire RAG workflow"
      ]
    },
    {
      "cell_type": "code",
      "execution_count": null,
      "metadata": {
        "ExecuteTime": {
          "end_time": "2025-04-24T16:47:21.669248Z",
          "start_time": "2025-04-24T16:47:21.663308Z"
        },
        "id": "0T1fCdQWfj8b"
      },
      "outputs": [],
      "source": [
        "# Setup Session\n",
        "chat = ChatBot(async_index, vectorizer=hf, user=\"Andrew\")\n",
        "await chat.clear_history()"
      ]
    },
    {
      "cell_type": "code",
      "execution_count": null,
      "metadata": {
        "ExecuteTime": {
          "end_time": "2025-04-24T16:47:27.496044Z",
          "start_time": "2025-04-24T16:47:21.702428Z"
        },
        "id": "z9Z_UCf3fj8b",
        "outputId": "1412c2e7-bd3d-4b30-8189-49a01bf4b54f"
      },
      "outputs": [
        {
          "name": "stdout",
          "output_type": "stream",
          "text": [
            "Hi! How can I assist you today?\n"
          ]
        }
      ],
      "source": [
        "# Run a simple chat\n",
        "stopterms = [\"exit\", \"quit\", \"end\", \"cancel\"]\n",
        "\n",
        "# Simple Chat\n",
        "# NBVAL_SKIP\n",
        "while True:\n",
        "    user_query = input()\n",
        "    if user_query.lower() in stopterms or not user_query:\n",
        "        break\n",
        "    answer = await chat.answer_question(user_query)\n",
        "    print(answer, flush=True)"
      ]
    },
    {
      "cell_type": "code",
      "execution_count": null,
      "metadata": {
        "ExecuteTime": {
          "end_time": "2025-04-24T16:47:27.527276Z",
          "start_time": "2025-04-24T16:47:27.522755Z"
        },
        "id": "NWq3Ejgdfj8b",
        "outputId": "35914019-202c-4315-fee7-aa0a715bafd5"
      },
      "outputs": [
        {
          "data": {
            "text/plain": [
              "[{'role': 'user', 'content': 'hi'},\n",
              " {'role': 'assistant', 'content': 'Hi! How can I assist you today?'}]"
            ]
          },
          "execution_count": 33,
          "metadata": {},
          "output_type": "execute_result"
        }
      ],
      "source": [
        "# NBVAL_SKIP\n",
        "chat.session_manager.messages"
      ]
    },
    {
      "cell_type": "markdown",
      "metadata": {
        "id": "D_eiWikCJkED"
      },
      "source": [
        "# You now have a working RAG pipeline!\n",
        "\n",
        "As you can see, it is easy to get started with RAG and we were able to get decent chat results from this simple setup. To go beyond the basic example though see the [advanced_rag](./04_advanced_redisvl.ipynb) notebook.\n",
        "\n",
        "This notebook covers:\n",
        "\n",
        "- **Improving accuracy** with dense content representations and query rewriting/expansion\n",
        "- **Improving performance and optimizing cost** with semantic caching\n",
        "- **Improving personalization** with chat session memory.\n"
      ]
    },
    {
      "cell_type": "markdown",
      "metadata": {
        "id": "Wscs4Mvo1ujD"
      },
      "source": [
        "## Cleanup\n",
        "\n",
        "Clean up the database."
      ]
    },
    {
      "cell_type": "code",
      "execution_count": null,
      "metadata": {
        "ExecuteTime": {
          "end_time": "2025-04-24T16:47:34.042787Z",
          "start_time": "2025-04-24T16:47:34.036106Z"
        },
        "id": "On6yNuQn1ujD",
        "outputId": "51fc171a-879b-4b91-df56-806e68ad0610"
      },
      "outputs": [
        {
          "data": {
            "text/plain": [
              "True"
            ]
          },
          "execution_count": 37,
          "metadata": {},
          "output_type": "execute_result"
        }
      ],
      "source": [
        "await async_index.client.flushall()"
      ]
    }
  ],
  "metadata": {
    "accelerator": "GPU",
    "colab": {
      "gpuType": "T4",
      "provenance": []
    },
    "kernelspec": {
      "display_name": "env",
      "language": "python",
      "name": "python3"
    },
    "language_info": {
      "codemirror_mode": {
        "name": "ipython",
        "version": 3
      },
      "file_extension": ".py",
      "mimetype": "text/x-python",
      "name": "python",
      "nbconvert_exporter": "python",
      "pygments_lexer": "ipython3",
      "version": "3.11.11"
    }
  },
  "nbformat": 4,
  "nbformat_minor": 0
}